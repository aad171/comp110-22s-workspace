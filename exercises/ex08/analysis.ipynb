{
 "cells": [
  {
   "cell_type": "markdown",
   "metadata": {},
   "source": [
    "# Analysis for Continuous Improvement\n",
    "\n",
    "Author Name: Aadit Mehta\n",
    "\n",
    "9-digit PID: 730486473\n",
    "\n",
    "Continuous Improvement embraces a belief there is _always room to make things better_. It is a mindset and process we value and practice in this course. In this assignment, you are able to practice continuous improvement and contribute to the design ideas of the course.\n",
    "\n",
    "## Brainstorming Ideas\n",
    "\n",
    "Reflect on your personal experiences and observations in COMP110 and **brainstorm modifications to the course that _create value_ beyond its current design**. When brainstorming, try not to be critical of the ideas you come up with regarding scale, stakeholders impacted, or for any other reasons. In the markdown cell below, brainstorm 3 to 5 ideas you think would create value for you.\n",
    "\n",
    "Each brainstormed idea should state a. the suggested change or addition, b. what the expected value created, and c. which specific stakeholders would benefit.  If helpful, expand on the following template \"The course should (state idea here) because it will (state value created here) for (insert stakeholders here).\"\n",
    "\n",
    "Example A: \"The course should use only examples from psychology experiments because it will be more relevant for students who are psychology majors.\"\n",
    "\n",
    "Example B: \"The course should not have post-lesson questions because they are not useful for most students in the class.\""
   ]
  },
  {
   "cell_type": "markdown",
   "metadata": {},
   "source": [
    "### Part 1. Creative Ideation\n",
    "\n",
    "1. The course should offer online / more accessible forms of office hours to help students whose schedules don't always align with the COMP 110 schedule and for students who are sick with Covid or another illness. Use `oh_visits` and `oh_effective` to analyze the relevant data.\n",
    "\n",
    "2. To help us create our own examples of code, offer a sort of outline for the beginning of what some sort of code with that concept would look like and then allow us to finish it if we want to. It shouldn't be mandatory, but it could help with midterm and final studying as well. Use `own_examples` to analyze the relevant data.\n",
    "\n",
    "3. Eliminate paper based quizzes, for coding it doesn't help because understanding how to analyze error cases, unit testing, and all of vs codes features is more applicable than memorizing semantics and syntax. Use `qz_effective` to analyze the relevant data.\n",
    "\n",
    "4.  Make class more interactive. Just telling people to work together doesn't get people to work together. Use `no_hybrid` and `all_sync` to analyze the relevant data.\n",
    "\n",
    "5. It is impossible to finish all of the lessons within 1hr and 15min all the time. You have to understand the material, type it into vs_code or write it down, etc. Either shorten length of videos, spread them out differently, or find another solution. Use `lesson_time` and `hours_online_work` to analyze the relevant data."
   ]
  },
  {
   "cell_type": "markdown",
   "metadata": {},
   "source": [
    "## Connecting with Available Data\n",
    "\n",
    "The data you have available for this analysis is limited to the anonymized course survey you and your peers filled out a few weeks ago. The data is found in the `survey.csv` file in this exercise directory. Each row represents an individual survey response. Each column has a description which can be found on the project write-up here: <https://22s.comp110.com/exercises/ex08.html>\n",
    "\n",
    "Review the list of available data and identify which one of your ideas _does not_, or is _least likely to_, have relevant data to support the analysis of your idea to create value. In the box below, identify which of your ideas lacks data and suggest how we might be able to collect this data in the future. One aspect of _continuous improvement_ is trying to avoid \"tunnel vision\" where possible improvements are not considered because there is no data available to analyze it. Identifying new data sources can unlock improvements!"
   ]
  },
  {
   "cell_type": "markdown",
   "metadata": {},
   "source": [
    "### Part 2. Identifying Missing Data\n",
    "\n",
    "1. Idea without sufficient data to analyze: Have you ever gone to tutoring or office hours? Why?\n",
    "\n",
    "2. Suggestion for how to collect data to support this idea in the future: You can keep this in the same google form multiple choice 1-7 form, separate the question and then under each one ask why. If you want you could make that multiple choice and give the most likely options or keep it open response with limited characters because no one wants to read an essay."
   ]
  },
  {
   "cell_type": "markdown",
   "metadata": {},
   "source": [
    "## Choosing an Idea to Analyze\n",
    "\n",
    "Consider those of your ideas which _do_ seem likely to have relevant data to analyze. If none of your ideas do, spend a few minutes and brainstorm another idea or two with the added connection of data available on hand and add those ideas to your brainstormed ideas list.\n",
    "\n",
    "Select the one idea which you believe is _most valuable_ to analyze relative to the others and has data to support the analysis of. In the markdown cell for Part 3 below, identify the idea you are exploring and articulate why you believe it is most valuable (e.g. widest impact, biggest opportunity for improvement, simplest change for significant improvement, and so on)."
   ]
  },
  {
   "cell_type": "markdown",
   "metadata": {},
   "source": [
    "### Part 3. Choosing Your Analysis\n",
    "\n",
    "1. Idea to analyze with available data: To help us create our own examples of code, offer a sort of outline for the beginning of what some sort of code with that concept would look like and then allow us to finish it if we want to. It shouldn't be mandatory, but it could help with midterm and final studying as well. Use `own_examples` and `own_notes` to analyze the relevant data.\n",
    "\n",
    "2. This idea is more valuable than the others brainstormed because: It offers a better way for students to apply the material they learn than only the exercises and are extra measures the students can use to study for midterms and finals other than just rewatching every video and class.\n"
   ]
  },
  {
   "cell_type": "markdown",
   "metadata": {},
   "source": [
    "## Your Analysis\n",
    "\n",
    "Before you begin analysis, a reminder that we do not expect the data to support everyone's ideas and you can complete this exercise for full credit even if the data does not clearly support your suggestion or even completely refutes it. What we are looking for is a logical attempt to explore the data using the techniques you have learned up until now in a way that _either_ supports, refutes, or does not have a clear result and then to reflect on your findings after the analysis.\n",
    "\n",
    "Using the utility functions you created for the previous exercise, you will continue with your analysis in the following part. Before you begin, refer to the rubric on the technical expectations of this section in the exercise write-up.\n",
    "\n",
    "In this section, you are expected to interleave code and markdown cells such that for each step of your analysis you are starting with an English description of what you are planning to do next in a markdown cell, followed by a Python cell that performs that step of the analysis."
   ]
  },
  {
   "cell_type": "markdown",
   "metadata": {},
   "source": [
    "### Part 4. Analysis\n",
    "\n",
    "We begin by changing some settings in the notebook to automatically reload changes to imported files."
   ]
  },
  {
   "cell_type": "code",
   "execution_count": 46,
   "metadata": {},
   "outputs": [],
   "source": [
    "%reload_ext autoreload\n",
    "%autoreload 2"
   ]
  },
  {
   "cell_type": "markdown",
   "metadata": {},
   "source": [
    "We continue by importing the helper functions from `data_utils`."
   ]
  },
  {
   "cell_type": "code",
   "execution_count": 47,
   "metadata": {},
   "outputs": [],
   "source": [
    "from data_utils import read_csv_rows, column_values, columnar, head, select, count, analyze"
   ]
  },
  {
   "cell_type": "markdown",
   "metadata": {},
   "source": [
    "Next, ... (you take it from here and add additional code and markdown cells to read in the CSV file and process it as needed)"
   ]
  },
  {
   "cell_type": "code",
   "execution_count": 48,
   "metadata": {},
   "outputs": [],
   "source": [
    "SURVEY_DATA_CSV_FILE_PATH: str = \"../../data/survey.csv\""
   ]
  },
  {
   "cell_type": "markdown",
   "metadata": {},
   "source": [
    "## Step 1\n",
    "\n",
    "Here I am using `read_csv_rows` to initialize the data from the dataset into a usable form as decided by the parameters of `columnar`."
   ]
  },
  {
   "cell_type": "code",
   "execution_count": 49,
   "metadata": {},
   "outputs": [],
   "source": [
    "dataset_rows = read_csv_rows(SURVEY_DATA_CSV_FILE_PATH)"
   ]
  },
  {
   "cell_type": "markdown",
   "metadata": {},
   "source": [
    "## Step 2\n",
    "Here I am going to use `dataset_rows` as the parameter for columnar. I will later use this output to use the select function."
   ]
  },
  {
   "cell_type": "code",
   "execution_count": 50,
   "metadata": {},
   "outputs": [],
   "source": [
    "dataset_columns = columnar(dataset_rows)"
   ]
  },
  {
   "cell_type": "markdown",
   "metadata": {},
   "source": [
    "## Step 3 \n",
    "\n",
    "Here I will be using the outputs of data from Part 2 in order to create a new table with the specific data that I want."
   ]
  },
  {
   "cell_type": "code",
   "execution_count": 51,
   "metadata": {},
   "outputs": [],
   "source": [
    "limited_dataset = select(dataset_columns, [\"own_examples\", \"own_notes\"])\n"
   ]
  },
  {
   "cell_type": "markdown",
   "metadata": {},
   "source": [
    "## Step 4\n",
    "\n",
    "To make sure that the above code cells are working correctly and giving back the data I want, I am going to utilize the head function. "
   ]
  },
  {
   "cell_type": "code",
   "execution_count": 52,
   "metadata": {},
   "outputs": [
    {
     "data": {
      "text/html": [
       "<table>\n",
       "<thead>\n",
       "<tr><th style=\"text-align: right;\">  own_examples</th><th style=\"text-align: right;\">  own_notes</th></tr>\n",
       "</thead>\n",
       "<tbody>\n",
       "<tr><td style=\"text-align: right;\">             4</td><td style=\"text-align: right;\">          4</td></tr>\n",
       "<tr><td style=\"text-align: right;\">             4</td><td style=\"text-align: right;\">          6</td></tr>\n",
       "<tr><td style=\"text-align: right;\">             7</td><td style=\"text-align: right;\">          7</td></tr>\n",
       "<tr><td style=\"text-align: right;\">             5</td><td style=\"text-align: right;\">          6</td></tr>\n",
       "<tr><td style=\"text-align: right;\">             3</td><td style=\"text-align: right;\">          6</td></tr>\n",
       "<tr><td style=\"text-align: right;\">             5</td><td style=\"text-align: right;\">          5</td></tr>\n",
       "<tr><td style=\"text-align: right;\">             7</td><td style=\"text-align: right;\">          7</td></tr>\n",
       "<tr><td style=\"text-align: right;\">             7</td><td style=\"text-align: right;\">          7</td></tr>\n",
       "<tr><td style=\"text-align: right;\">             7</td><td style=\"text-align: right;\">          7</td></tr>\n",
       "<tr><td style=\"text-align: right;\">             7</td><td style=\"text-align: right;\">          7</td></tr>\n",
       "</tbody>\n",
       "</table>"
      ],
      "text/plain": [
       "'<table>\\n<thead>\\n<tr><th style=\"text-align: right;\">  own_examples</th><th style=\"text-align: right;\">  own_notes</th></tr>\\n</thead>\\n<tbody>\\n<tr><td style=\"text-align: right;\">             4</td><td style=\"text-align: right;\">          4</td></tr>\\n<tr><td style=\"text-align: right;\">             4</td><td style=\"text-align: right;\">          6</td></tr>\\n<tr><td style=\"text-align: right;\">             7</td><td style=\"text-align: right;\">          7</td></tr>\\n<tr><td style=\"text-align: right;\">             5</td><td style=\"text-align: right;\">          6</td></tr>\\n<tr><td style=\"text-align: right;\">             3</td><td style=\"text-align: right;\">          6</td></tr>\\n<tr><td style=\"text-align: right;\">             5</td><td style=\"text-align: right;\">          5</td></tr>\\n<tr><td style=\"text-align: right;\">             7</td><td style=\"text-align: right;\">          7</td></tr>\\n<tr><td style=\"text-align: right;\">             7</td><td style=\"text-align: right;\">          7</td></tr>\\n<tr><td style=\"text-align: right;\">             7</td><td style=\"text-align: right;\">          7</td></tr>\\n<tr><td style=\"text-align: right;\">             7</td><td style=\"text-align: right;\">          7</td></tr>\\n</tbody>\\n</table>'"
      ]
     },
     "execution_count": 52,
     "metadata": {},
     "output_type": "execute_result"
    }
   ],
   "source": [
    "from tabulate import tabulate\n",
    "\n",
    "code_check = head(limited_dataset, 10)\n",
    "\n",
    "tabulate(code_check, code_check.keys(), \"html\")"
   ]
  },
  {
   "cell_type": "markdown",
   "metadata": {},
   "source": [
    "## Step 5\n",
    "\n",
    "Now that I have a readable, and limited list based on the data that I want. I am going to use the count function to begin analyzing the data and visualizing trends. "
   ]
  },
  {
   "cell_type": "code",
   "execution_count": 53,
   "metadata": {},
   "outputs": [
    {
     "name": "stdout",
     "output_type": "stream",
     "text": [
      "own_notes_counts: {'4': 57, '6': 129, '7': 276, '5': 86, '3': 39, '1': 15, '2': 18}\n",
      "own_examples_counts: {'4': 123, '7': 103, '5': 161, '3': 77, '2': 32, '1': 14, '6': 110}\n"
     ]
    }
   ],
   "source": [
    "own_notes_counts: dict[str, int] = count(limited_dataset[\"own_notes\"])\n",
    "print(f\"own_notes_counts: {own_notes_counts}\")\n",
    "\n",
    "own_examples_counts: dict[str, int] = count(limited_dataset[\"own_examples\"])\n",
    "print(f\"own_examples_counts: {own_examples_counts}\")"
   ]
  },
  {
   "cell_type": "markdown",
   "metadata": {},
   "source": [
    "## Step 6 - The End\n",
    "\n",
    "Here I have created my own function named `analysis`. The goal of the function is analyze the data that we get from the count function to determine whether more people voted higher or lower. If they voted higher than there isn't much of an issue, especially if most people voted higher, but if more people voted lower, than there may be a reason to implement a change. "
   ]
  },
  {
   "cell_type": "code",
   "execution_count": 54,
   "metadata": {},
   "outputs": [
    {
     "name": "stdout",
     "output_type": "stream",
     "text": [
      "More people voted higher for own_notes, there were 362 more ratings from 5-7 than from 1-4 and there were 620 ratings in total.\n",
      "More people voted higher for own_examples, there were 128 more ratings from 5-7 than from 1-4 and there were 620 ratings in total.\n"
     ]
    }
   ],
   "source": [
    "own_notes_analysis = analyze(own_notes_counts, \"own_notes\")\n",
    "own_examples_analysis = analyze(own_examples_counts, \"own_examples\")\n",
    "print(own_notes_analysis)\n",
    "print(own_examples_analysis)"
   ]
  },
  {
   "cell_type": "markdown",
   "metadata": {},
   "source": [
    "## Conclusion\n",
    "\n",
    "In the following markdown cell, write a reflective conclusion given the analysis you performed and identify recommendations.\n",
    "\n",
    "If your analysis of the data supports your idea, state your recommendation for the change and summarize the data analysys results you found which support it. Additionally, describe any extensions or refinements to this idea which might be explored further. Finally, discuss the potential costs, trade-offs, or stakeholders who may be negatively impacted by this proposed change.\n",
    "\n",
    "If your analysis of the data is inconclusive, summarize why your data analysis results were inconclusive in the support of your idea. Additionally, describe what experimental idea implementation or additional data collection might help build more confidence in assessing your idea. Finally, discuss the potential costs, trade-offs, or stakeholders who may be negatively impacted by experimenting with your idea.\n",
    "\n",
    "Finally, if your analysis of the data does not support it, summarize your data analysis results and why it refutes your idea. Discuss the potential costs, trade-offs, or stakeholders who may be negatively impacted by this proposed change. If you disagree with the validity of the findings, describe why your idea still makes sense to implement and what alternative data would better support it. If you agree with the validity of the data analysis, describe what alternate ideas or extensions you would explore instead. "
   ]
  },
  {
   "cell_type": "markdown",
   "metadata": {},
   "source": [
    "### Part 5. Conclusion\n",
    "\n",
    "The data concludes that most people already write their own notes and create their own examples after and during lesson videos, however, I don't know how much I believe this statement. I find it a little difficult to assume that most people are putting in more work in a class than is asked of them. However, the data can't be argued with in a literal sense, so I have to take it to mean what it says. In any case, I don't see how still implementing my idea of creating basic outlines of new concept implementations to start us off creating new examples would be harmful. It will still be a fantastic way to study for midterms and the final exam and gives us a better understanding of individual concepts rather than implementing all of our knowledge in the next exercise. For this reason I don't see how this idea would negatively impact any of the stakeholders, create any negative tradeoffs, or have any negative potential costs, other than the additional time that would need to be put in my the teachings staff and students should they wish to take advantage of the extra material.\n",
    "\n"
   ]
  }
 ],
 "metadata": {
  "interpreter": {
   "hash": "aee8b7b246df8f9039afb4144a1f6fd8d2ca17a180786b69acc140d282b71a49"
  },
  "kernelspec": {
   "display_name": "Python 3.10.2 64-bit",
   "language": "python",
   "name": "python3"
  },
  "language_info": {
   "codemirror_mode": {
    "name": "ipython",
    "version": 3
   },
   "file_extension": ".py",
   "mimetype": "text/x-python",
   "name": "python",
   "nbconvert_exporter": "python",
   "pygments_lexer": "ipython3",
   "version": "3.10.3"
  },
  "orig_nbformat": 4
 },
 "nbformat": 4,
 "nbformat_minor": 2
}
